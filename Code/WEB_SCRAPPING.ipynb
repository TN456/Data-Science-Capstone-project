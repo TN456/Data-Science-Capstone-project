{
 "cells": [
  {
   "attachments": {},
   "cell_type": "markdown",
   "id": "afc731dd",
   "metadata": {},
   "source": [
    "# WEB SCRAPPING"
   ]
  },
  {
   "cell_type": "code",
   "execution_count": null,
   "id": "e7391485",
   "metadata": {},
   "outputs": [],
   "source": [
    "import warnings\n",
    "import pandas as pd\n",
    "warnings.filterwarnings('ignore')\n",
    "pd.set_option(\"display.max_colwidth\", 200)\n",
    "import requests\n",
    "from bs4 import BeautifulSoup"
   ]
  },
  {
   "cell_type": "code",
   "execution_count": 199,
   "id": "af93b3a2",
   "metadata": {},
   "outputs": [],
   "source": [
    "urls = [\"https://www.amazon.com/Ulta-Beauty-Email-Delivery/product-reviews/B01CT5PDO6/ref=cm_cr_dp_d_show_all_btm?ie=UTF8&reviewerType=all_reviews\"]"
   ]
  },
  {
   "cell_type": "code",
   "execution_count": 200,
   "id": "5fb897b7",
   "metadata": {},
   "outputs": [],
   "source": [
    "for url in urls:\n",
    "    review_html = requests.get(url).text"
   ]
  },
  {
   "cell_type": "code",
   "execution_count": 201,
   "id": "b8db90bf",
   "metadata": {},
   "outputs": [],
   "source": [
    "HEADERS = ({'User-Agent':\n",
    "            'Mozilla/5.0 (X11; Linux x86_64) AppleWebKit/537.36 (KHTML, like Gecko) Chrome/44.0.2403.157 Safari/537.36',\n",
    "            'Accept-Language': 'en-US, en;q=0.5'})"
   ]
  },
  {
   "cell_type": "code",
   "execution_count": 202,
   "id": "befebfa1",
   "metadata": {},
   "outputs": [],
   "source": [
    "webpage = requests.get(url, headers=HEADERS)"
   ]
  },
  {
   "cell_type": "code",
   "execution_count": 203,
   "id": "70d14bd1",
   "metadata": {},
   "outputs": [
    {
     "data": {
      "text/plain": [
       "<Response [200]>"
      ]
     },
     "execution_count": 203,
     "metadata": {},
     "output_type": "execute_result"
    }
   ],
   "source": [
    "# Was response success\n",
    "webpage"
   ]
  },
  {
   "cell_type": "code",
   "execution_count": 204,
   "id": "3956277d",
   "metadata": {},
   "outputs": [
    {
     "data": {
      "text/plain": [
       "bytes"
      ]
     },
     "execution_count": 204,
     "metadata": {},
     "output_type": "execute_result"
    }
   ],
   "source": [
    "type(webpage.content)"
   ]
  },
  {
   "cell_type": "code",
   "execution_count": 205,
   "id": "dc29c235",
   "metadata": {},
   "outputs": [],
   "source": [
    "# Initialize the beautifulsoup framework\n",
    "soup = BeautifulSoup(webpage.content, \"html.parser\")"
   ]
  },
  {
   "cell_type": "code",
   "execution_count": 206,
   "id": "9fe0bc97",
   "metadata": {},
   "outputs": [],
   "source": [
    "## Extract the review title\n",
    "new_review_rating = soup.findAll('span',attrs={'class':'a-icon-alt'})\n",
    "new_review_text = soup.findAll('span', attrs={'data-hook': 'review-body'})"
   ]
  },
  {
   "cell_type": "code",
   "execution_count": 207,
   "id": "93f44b81",
   "metadata": {},
   "outputs": [
    {
     "data": {
      "text/plain": [
       "[<span class=\"a-icon-alt\">4.9 out of 5 stars</span>,\n",
       " <span class=\"a-icon-alt\">5.0 out of 5 stars</span>,\n",
       " <span class=\"a-icon-alt\">3.0 out of 5 stars</span>,\n",
       " <span class=\"a-icon-alt\">5.0 out of 5 stars</span>]"
      ]
     },
     "execution_count": 207,
     "metadata": {},
     "output_type": "execute_result"
    }
   ],
   "source": [
    "new_review_rating[0:4]"
   ]
  },
  {
   "cell_type": "code",
   "execution_count": 208,
   "id": "c0a66c3f",
   "metadata": {},
   "outputs": [
    {
     "data": {
      "text/plain": [
       "[<span class=\"a-size-base review-text review-text-content\" data-hook=\"review-body\">\n",
       " <span>Do you actually make for a email delivery gift card? It worked as expected. Lol you can save the card in your Google pay and pay that way instead of online</span>\n",
       " </span>,\n",
       " <span class=\"a-size-base review-text review-text-content\" data-hook=\"review-body\">\n",
       " <span>Quick and easy delivery, perfect for a last minute birthday gift</span>\n",
       " </span>,\n",
       " <span class=\"a-size-base review-text review-text-content\" data-hook=\"review-body\">\n",
       " <span>This is so easy and quick! I used it one day when I was very short on time. My daughter was so happy she didn’t have to wait! You will love it!</span>\n",
       " </span>,\n",
       " <span class=\"a-size-base review-text review-text-content\" data-hook=\"review-body\">\n",
       " <span>Appreciated the ease. And my 78 year old mom could easily figure out how to print the email and loved using it!</span>\n",
       " </span>]"
      ]
     },
     "execution_count": 208,
     "metadata": {},
     "output_type": "execute_result"
    }
   ],
   "source": [
    "new_review_text[0:4]"
   ]
  },
  {
   "cell_type": "code",
   "execution_count": 209,
   "id": "556d1e44",
   "metadata": {},
   "outputs": [],
   "source": [
    "all_urls = []\n",
    "for i in range(20):\n",
    "    if i == 0:\n",
    "        all_urls.append( url )\n",
    "    else:\n",
    "        all_urls.append( url + \"&pageNumber=\" + str(i) )"
   ]
  },
  {
   "cell_type": "code",
   "execution_count": 210,
   "id": "b58f5151",
   "metadata": {},
   "outputs": [],
   "source": [
    "all_review_texts = []\n",
    "all_review_rating = []\n",
    "for each_url in all_urls:\n",
    "    webpage = requests.get(url, headers=HEADERS)\n",
    "    soup = BeautifulSoup(webpage.content, \"html.parser\")\n",
    "    new_review_rating = soup.findAll('span',attrs={'class':'a-icon-alt'})\n",
    "    new_review_text = soup.findAll('span', attrs={'data-hook': 'review-body'}) \n",
    "    this_review_rating = [r.text for r in new_review_rating]\n",
    "    all_review_rating = all_review_rating + this_review_rating\n",
    "    this_review_texts = [r.text for r in new_review_text]\n",
    "    all_review_texts = all_review_texts + this_review_texts"
   ]
  },
  {
   "cell_type": "code",
   "execution_count": 211,
   "id": "bc9d33ef",
   "metadata": {},
   "outputs": [
    {
     "data": {
      "text/plain": [
       "['4.9 out of 5 stars',\n",
       " '5.0 out of 5 stars',\n",
       " '3.0 out of 5 stars',\n",
       " '5.0 out of 5 stars',\n",
       " '5.0 out of 5 stars']"
      ]
     },
     "execution_count": 211,
     "metadata": {},
     "output_type": "execute_result"
    }
   ],
   "source": [
    "all_review_rating[:5]"
   ]
  },
  {
   "cell_type": "code",
   "execution_count": 212,
   "id": "70b597fe",
   "metadata": {},
   "outputs": [
    {
     "data": {
      "text/plain": [
       "['\\nDo you actually make for a email delivery gift card? It worked as expected. Lol you can save the card in your Google pay and pay that way instead of online\\n',\n",
       " '\\nQuick and easy delivery, perfect for a last minute birthday gift\\n',\n",
       " '\\nThis is so easy and quick! I used it one day when I was very short on time. My daughter was so happy she didn’t have to wait! You will love it!\\n',\n",
       " '\\nAppreciated the ease. And my 78 year old mom could easily figure out how to print the email and loved using it!\\n',\n",
       " '\\nPurchases for a birthday present, fast delivery and super convenient\\n']"
      ]
     },
     "execution_count": 212,
     "metadata": {},
     "output_type": "execute_result"
    }
   ],
   "source": [
    "all_review_texts[:5]"
   ]
  },
  {
   "cell_type": "code",
   "execution_count": 213,
   "id": "c1f1cbe4",
   "metadata": {},
   "outputs": [],
   "source": [
    "# Remove all characters other than alpha numerics from the review titles as well\n",
    "import re\n",
    "r_rating = list(map(lambda x: x.replace(\" out of 5 stars\", \"\"),all_review_rating))\n",
    "r_reviewText = list( map( lambda x: re.sub(\"[^a-zA-Z]\", \" \", x ), all_review_texts ))"
   ]
  },
  {
   "cell_type": "code",
   "execution_count": null,
   "id": "29026ae5",
   "metadata": {},
   "outputs": [],
   "source": [
    "from itertools import zip_longest\n",
    "data_dict1 = {\"Rating\": [], \"ReviewText\": []}\n",
    "for rating, review_text in zip_longest(r_rating, r_reviewText, fillvalue=float('nan')):\n",
    "    data_dict1[\"Rating\"].append(rating)\n",
    "    data_dict1[\"ReviewText\"].append(review_text)\n",
    "\n",
    "# Convert dictionary to dataframe\n",
    "new_df = pd.DataFrame(data_dict1)"
   ]
  },
  {
   "cell_type": "code",
   "execution_count": null,
   "id": "4fbfc359",
   "metadata": {},
   "outputs": [],
   "source": [
    "existing_df = pd.read_csv(\"Original_dataset.csv\")"
   ]
  },
  {
   "cell_type": "code",
   "execution_count": null,
   "id": "cc12ffc9",
   "metadata": {},
   "outputs": [
    {
     "data": {
      "text/html": [
       "<div>\n",
       "<style scoped>\n",
       "    .dataframe tbody tr th:only-of-type {\n",
       "        vertical-align: middle;\n",
       "    }\n",
       "\n",
       "    .dataframe tbody tr th {\n",
       "        vertical-align: top;\n",
       "    }\n",
       "\n",
       "    .dataframe thead th {\n",
       "        text-align: right;\n",
       "    }\n",
       "</style>\n",
       "<table border=\"1\" class=\"dataframe\">\n",
       "  <thead>\n",
       "    <tr style=\"text-align: right;\">\n",
       "      <th></th>\n",
       "      <th>Rating</th>\n",
       "      <th>ReviewText</th>\n",
       "    </tr>\n",
       "  </thead>\n",
       "  <tbody>\n",
       "    <tr>\n",
       "      <th>0</th>\n",
       "      <td>4.9</td>\n",
       "      <td>She loved it</td>\n",
       "    </tr>\n",
       "    <tr>\n",
       "      <th>1</th>\n",
       "      <td>5.0</td>\n",
       "      <td>My girlfriend loves Aerie and the gift card was     off for Black Friday  so it was a no brainer  I encountered issues with delivery with USPS  nothing to do with Amazon  but Amazon customer supp...</td>\n",
       "    </tr>\n",
       "    <tr>\n",
       "      <th>2</th>\n",
       "      <td>3.0</td>\n",
       "      <td>Bought this gift card for         Like getting a discount</td>\n",
       "    </tr>\n",
       "    <tr>\n",
       "      <th>3</th>\n",
       "      <td>5.0</td>\n",
       "      <td>Grand daughter liked it  She wants to go shopping</td>\n",
       "    </tr>\n",
       "    <tr>\n",
       "      <th>4</th>\n",
       "      <td>5.0</td>\n",
       "      <td>Gift card  Works as advertised  D</td>\n",
       "    </tr>\n",
       "    <tr>\n",
       "      <th>...</th>\n",
       "      <td>...</td>\n",
       "      <td>...</td>\n",
       "    </tr>\n",
       "    <tr>\n",
       "      <th>255</th>\n",
       "      <td>5.0</td>\n",
       "      <td>NaN</td>\n",
       "    </tr>\n",
       "    <tr>\n",
       "      <th>256</th>\n",
       "      <td>5.0</td>\n",
       "      <td>NaN</td>\n",
       "    </tr>\n",
       "    <tr>\n",
       "      <th>257</th>\n",
       "      <td>5.0</td>\n",
       "      <td>NaN</td>\n",
       "    </tr>\n",
       "    <tr>\n",
       "      <th>258</th>\n",
       "      <td>5.0</td>\n",
       "      <td>NaN</td>\n",
       "    </tr>\n",
       "    <tr>\n",
       "      <th>259</th>\n",
       "      <td>5.0</td>\n",
       "      <td>NaN</td>\n",
       "    </tr>\n",
       "  </tbody>\n",
       "</table>\n",
       "<p>260 rows × 2 columns</p>\n",
       "</div>"
      ],
      "text/plain": [
       "    Rating  \\\n",
       "0      4.9   \n",
       "1      5.0   \n",
       "2      3.0   \n",
       "3      5.0   \n",
       "4      5.0   \n",
       "..     ...   \n",
       "255    5.0   \n",
       "256    5.0   \n",
       "257    5.0   \n",
       "258    5.0   \n",
       "259    5.0   \n",
       "\n",
       "                                                                                                                                                                                                  ReviewText  \n",
       "0                                                                                                                                                                                              She loved it   \n",
       "1     My girlfriend loves Aerie and the gift card was     off for Black Friday  so it was a no brainer  I encountered issues with delivery with USPS  nothing to do with Amazon  but Amazon customer supp...  \n",
       "2                                                                                                                                                Bought this gift card for         Like getting a discount    \n",
       "3                                                                                                                                                        Grand daughter liked it  She wants to go shopping    \n",
       "4                                                                                                                                                                         Gift card  Works as advertised  D   \n",
       "..                                                                                                                                                                                                       ...  \n",
       "255                                                                                                                                                                                                      NaN  \n",
       "256                                                                                                                                                                                                      NaN  \n",
       "257                                                                                                                                                                                                      NaN  \n",
       "258                                                                                                                                                                                                      NaN  \n",
       "259                                                                                                                                                                                                      NaN  \n",
       "\n",
       "[260 rows x 2 columns]"
      ]
     },
     "execution_count": 196,
     "metadata": {},
     "output_type": "execute_result"
    }
   ],
   "source": [
    "new_df"
   ]
  },
  {
   "cell_type": "code",
   "execution_count": null,
   "id": "f9d04f11",
   "metadata": {},
   "outputs": [],
   "source": [
    "df = pd.concat([existing_df, new_df], ignore_index=True)"
   ]
  },
  {
   "cell_type": "code",
   "execution_count": null,
   "id": "97214f14",
   "metadata": {},
   "outputs": [
    {
     "name": "stdout",
     "output_type": "stream",
     "text": [
      "<class 'pandas.core.frame.DataFrame'>\n",
      "RangeIndex: 1560 entries, 0 to 1559\n",
      "Data columns (total 2 columns):\n",
      " #   Column      Non-Null Count  Dtype \n",
      "---  ------      --------------  ----- \n",
      " 0   Rating      1560 non-null   object\n",
      " 1   ReviewText  1200 non-null   object\n",
      "dtypes: object(2)\n",
      "memory usage: 24.5+ KB\n"
     ]
    }
   ],
   "source": [
    "df.info()"
   ]
  },
  {
   "cell_type": "code",
   "execution_count": 215,
   "id": "7cf9d222",
   "metadata": {},
   "outputs": [],
   "source": [
    "df.to_csv(\"GiftReviews_TestData.csv\",index=False)"
   ]
  },
  {
   "cell_type": "code",
   "execution_count": 216,
   "id": "6b04af3c",
   "metadata": {},
   "outputs": [
    {
     "name": "stdout",
     "output_type": "stream",
     "text": [
      "<class 'pandas.core.frame.DataFrame'>\n",
      "RangeIndex: 1560 entries, 0 to 1559\n",
      "Data columns (total 2 columns):\n",
      " #   Column      Non-Null Count  Dtype \n",
      "---  ------      --------------  ----- \n",
      " 0   Rating      1560 non-null   object\n",
      " 1   ReviewText  1200 non-null   object\n",
      "dtypes: object(2)\n",
      "memory usage: 24.5+ KB\n"
     ]
    }
   ],
   "source": [
    "df.info()"
   ]
  }
 ],
 "metadata": {
  "kernelspec": {
   "display_name": "Python 3 (ipykernel)",
   "language": "python",
   "name": "python3"
  },
  "language_info": {
   "codemirror_mode": {
    "name": "ipython",
    "version": 3
   },
   "file_extension": ".py",
   "mimetype": "text/x-python",
   "name": "python",
   "nbconvert_exporter": "python",
   "pygments_lexer": "ipython3",
   "version": "3.12.1"
  }
 },
 "nbformat": 4,
 "nbformat_minor": 5
}
